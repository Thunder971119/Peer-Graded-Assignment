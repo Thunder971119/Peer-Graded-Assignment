{
 "cells": [
  {
   "cell_type": "markdown",
   "metadata": {},
   "source": [
    "<center>\n",
    "    <img src=\"https://cf-courses-data.s3.us.cloud-object-storage.appdomain.cloud/IBMDeveloperSkillsNetwork-DS0105EN-SkillsNetwork/labs/Module2/images/SN_web_lightmode.png\" width=\"300\" alt=\"cognitiveclass.ai logo\"  />\n",
    "</center>\n"
   ]
  },
  {
   "cell_type": "markdown",
   "metadata": {},
   "source": [
    "#### Add your code below following the instructions given in the course\n"
   ]
  },
  {
   "cell_type": "markdown",
   "metadata": {},
   "source": [
    "# My Jupyter Notebook on IBM Watson Studio"
   ]
  },
  {
   "cell_type": "markdown",
   "metadata": {
    "tags": []
   },
   "source": [
    "**Juan Pablo Rodriguez Chacon**"
   ]
  },
  {
   "cell_type": "markdown",
   "metadata": {
    "tags": []
   },
   "source": [
    "Junior Regulatory Associate"
   ]
  },
  {
   "cell_type": "markdown",
   "metadata": {},
   "source": [
    "*I am interested in data science because I want to process,transform and analyze clinical data. It could be a huge advantage on my professional development*"
   ]
  },
  {
   "cell_type": "markdown",
   "metadata": {},
   "source": [
    "### The following code is going to print a christmas tree"
   ]
  },
  {
   "cell_type": "code",
   "execution_count": 4,
   "metadata": {
    "tags": []
   },
   "outputs": [
    {
     "name": "stdout",
     "output_type": "stream",
     "text": [
      "               \n",
      "              **\n",
      "             ****\n",
      "            ******\n",
      "           ********\n",
      "          **********\n",
      "         ************\n",
      "        **************\n",
      "       ****************\n",
      "      ******************\n",
      "     ********************\n",
      "             ****\n",
      "             ****\n"
     ]
    }
   ],
   "source": [
    "import math\n",
    " \n",
    "max=21\n",
    "separacion=5\n",
    "j=1\n",
    " \n",
    "# creamos el arbol\n",
    "for i in range(0,max,2):\n",
    " \n",
    "    # ponemos los espacios\n",
    "    linea=(separacion+math.ceil(max/2)-j)*\" \"\n",
    " \n",
    "    # ponemos los asteriscos\n",
    "    linea+=i*\"*\"\n",
    " \n",
    "    j+=1\n",
    "    print(linea)\n",
    " \n",
    "# cramos el tronco\n",
    "linea=(separacion+math.ceil(max/2)-3)*\" \"\n",
    "linea+=4*\"*\"\n",
    "print(linea)\n",
    "print(linea)"
   ]
  },
  {
   "cell_type": "markdown",
   "metadata": {},
   "source": [
    "| Syntax      | Description |\n",
    "| ----------- | ----------- |\n",
    "| Header      | Title       |\n",
    "| Paragraph   | Text        |\n",
    "\n",
    "- 1\n",
    "- 2\n",
    "- 3\n",
    "- 4\n",
    "- 5\n",
    "\n",
    "[My Linkedin profile](https://www.linkedin.com/in/juan-pablo-rodr%C3%ADguez-chac%C3%B3n-25ab9a1a2/)"
   ]
  }
 ],
 "metadata": {
  "kernelspec": {
   "display_name": "Python",
   "language": "python",
   "name": "conda-env-python-py"
  },
  "language_info": {
   "codemirror_mode": {
    "name": "ipython",
    "version": 3
   },
   "file_extension": ".py",
   "mimetype": "text/x-python",
   "name": "python",
   "nbconvert_exporter": "python",
   "pygments_lexer": "ipython3",
   "version": "3.7.12"
  }
 },
 "nbformat": 4,
 "nbformat_minor": 4
}
